{
 "cells": [
  {
   "cell_type": "markdown",
   "metadata": {
    "collapsed": true
   },
   "source": [
    "12-10 dynamic programming"
   ]
  },
  {
   "cell_type": "markdown",
   "metadata": {
    "collapsed": true
   },
   "source": [
    "Integer Knapsack Problem (Duplicate Items NOT Allowed) \n",
    "You have n items (some of which can be identical); item Ii is of weight wi and value vi.\n",
    "You also have a knapsack of capacity C. Choose a combination of available\n",
    "items which all fit in the knapsack and whose value is as large as possible."
   ]
  },
  {
   "cell_type": "code",
   "execution_count": 106,
   "metadata": {},
   "outputs": [],
   "source": [
    "#assume: item1 weight 5 value 2, item2 weight 3 value 1, item3 weight 4 value 2, item4 weight 5 value 3, item 5 value 1 weight 1, \n",
    "#item 6 weight 7 value 4, stored in a dictionary\n",
    "dic = {\"item1\":[5,2],\"item2\":[3,1],\"item3\":[4,2],\"item4\":[5,3],\"item5\":[1,1],\"item6\":[7,4]}"
   ]
  },
  {
   "cell_type": "markdown",
   "metadata": {},
   "source": [
    "做一个2D表，横坐标表示剩余容量，纵坐标表示物品i，表格每个单元存储两个信息（1.所有选择 2.价值 这里考虑到可能会有重复，可以放到一个list里面。为了简化这里不考虑，即覆盖），那么问题就是是否要选择物品i"
   ]
  },
  {
   "cell_type": "markdown",
   "metadata": {},
   "source": [
    "这里每个cell里面存成[[path],value]，那么表格每一行均会有一部分空值，代表不可到达的。因为不存在商品不带重量。"
   ]
  },
  {
   "cell_type": "code",
   "execution_count": 172,
   "metadata": {},
   "outputs": [
    {
     "data": {
      "text/plain": [
       "[['item5', 'item4', 'item6'], 8]"
      ]
     },
     "execution_count": 172,
     "metadata": {},
     "output_type": "execute_result"
    }
   ],
   "source": [
    "width = 13\n",
    "height = 7\n",
    "def build2d(width,height):\n",
    "    return [[[[],0] for i in range(width+1)] for j in range (height-1)]\n",
    "def knapsack(width,height,dic):\n",
    "    graph = build2d(width,height)\n",
    "    index_0 = 0\n",
    "    for key in dic.keys():\n",
    "        weight = dic[key][0]\n",
    "        value = dic[key][1]\n",
    "        for index_1 in range(width+1):\n",
    "            #列\n",
    "            if index_0 ==0:\n",
    "                #第一行，仅有一种选择\n",
    "                if weight <= width:\n",
    "                    graph[0][weight] = [[key],value]\n",
    "            else:\n",
    "                #当出现加上这个行李价值增加\n",
    "                if index_1 + weight <= width and graph[index_0-1][index_1][1] + value > graph[index_0][index_1+weight][1]:\n",
    "                    graph[index_0][index_1+weight][0]=graph[index_0-1][index_1][0]+[key]\n",
    "                    graph[index_0][index_1+weight][1] = graph[index_0-1][index_1][1]+value\n",
    "                #else:\n",
    "                    #如果不选这个行李\n",
    "                if graph[index_0-1][index_1][1]>graph[index_0][index_1][1]:\n",
    "                    graph[index_0][index_1]=graph[index_0-1][index_1]\n",
    "            #领进的两个\n",
    "            if index_1-1 > 0 and graph[index_0][index_1-1][1]>graph[index_0][index_1][1]:\n",
    "                graph[index_0][index_1] = graph[index_0][index_1-1]\n",
    "        index_0+=1\n",
    "    return graph[-1][-1]\n",
    "knapsack(width,height,dic)"
   ]
  },
  {
   "cell_type": "code",
   "execution_count": null,
   "metadata": {},
   "outputs": [],
   "source": []
  }
 ],
 "metadata": {
  "kernelspec": {
   "display_name": "Python 3",
   "language": "python",
   "name": "python3"
  },
  "language_info": {
   "codemirror_mode": {
    "name": "ipython",
    "version": 3
   },
   "file_extension": ".py",
   "mimetype": "text/x-python",
   "name": "python",
   "nbconvert_exporter": "python",
   "pygments_lexer": "ipython3",
   "version": "3.5.2"
  }
 },
 "nbformat": 4,
 "nbformat_minor": 2
}
